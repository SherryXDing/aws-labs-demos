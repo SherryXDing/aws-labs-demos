{
 "cells": [
  {
   "cell_type": "markdown",
   "metadata": {},
   "source": [
    "# Model Deployment Step by Step"
   ]
  },
  {
   "cell_type": "markdown",
   "metadata": {},
   "source": [
    "## Step 1: tar zip all files in folder ./deployment as model-gpu.tar.gz, and put it under main directory\n",
    "#### If you need to deploy another model, please update model_best.pth in ./deployment, and also change \"Sets of parameters\" part in ./deployment/code/inference.py. Please retain the file structures in ./deployment, and then tar zip them."
   ]
  },
  {
   "cell_type": "code",
   "execution_count": null,
   "metadata": {},
   "outputs": [],
   "source": [
    "!cd ../deployment\n",
    "!tar -czvf ../model-gpu.tar.gz ./"
   ]
  },
  {
   "cell_type": "markdown",
   "metadata": {},
   "source": [
    "## Step 2: Upload the model-gpu.tar.gz to an S3 bucket"
   ]
  },
  {
   "cell_type": "code",
   "execution_count": null,
   "metadata": {},
   "outputs": [],
   "source": [
    "!aws s3 cp ../model-gpu.tar.gz s3://sherry-signature-detection  # Change to your bucket name"
   ]
  },
  {
   "cell_type": "markdown",
   "metadata": {},
   "source": [
    "## Step 3: Deploy a realtime endpoint & Setup auto-scaling"
   ]
  },
  {
   "cell_type": "code",
   "execution_count": 19,
   "metadata": {},
   "outputs": [
    {
     "name": "stdout",
     "output_type": "stream",
     "text": [
      "arn:aws:iam::240487350066:role/service-role/AmazonSageMaker-ExecutionRole-20201028T114926\n"
     ]
    }
   ],
   "source": [
    "from sagemaker.pytorch import PyTorchModel\n",
    "from sagemaker import get_execution_role\n",
    "import boto3\n",
    "import matplotlib.pyplot as plt\n",
    "import cv2\n",
    "import numpy as np\n",
    "import io\n",
    "from PIL import Image\n",
    "import os\n",
    "import json\n",
    "%matplotlib inline\n",
    "\n",
    "role = get_execution_role()\n",
    "print(role)"
   ]
  },
  {
   "cell_type": "markdown",
   "metadata": {},
   "source": [
    "### Deploy a realtime endpoint \n",
    "#### First initalize a PytorchModel class, then call its deploy function"
   ]
  },
  {
   "cell_type": "code",
   "execution_count": 20,
   "metadata": {},
   "outputs": [],
   "source": [
    "pytorch_model = PyTorchModel(\n",
    "    model_data='s3://sherry-signature-detection/model-gpu.tar.gz', # Change to your bucket name\n",
    "    role=role, \n",
    "    entry_point='inference.py', \n",
    "    framework_version='1.5.0', \n",
    "    py_version='py3'\n",
    ")"
   ]
  },
  {
   "cell_type": "code",
   "execution_count": 21,
   "metadata": {},
   "outputs": [
    {
     "name": "stdout",
     "output_type": "stream",
     "text": [
      "-------------------!"
     ]
    }
   ],
   "source": [
    "REALTIME_ENDPOINT_NAME = 'signature-detection-gpu' \n",
    "\n",
    "predictor = pytorch_model.deploy(\n",
    "    instance_type='ml.g4dn.xlarge',\n",
    "#     instance_type='ml.m4.xlarge',\n",
    "    initial_instance_count=1, \n",
    "    endpoint_name = REALTIME_ENDPOINT_NAME,\n",
    "#     accelerator_type='ml.eia2.medium'\n",
    ")"
   ]
  },
  {
   "cell_type": "markdown",
   "metadata": {},
   "source": [
    "### Setup auto-scaling\n",
    "#### First register a scalable target, then define a scaling policy"
   ]
  },
  {
   "cell_type": "code",
   "execution_count": 22,
   "metadata": {},
   "outputs": [],
   "source": [
    "client = boto3.client('application-autoscaling')\n",
    "\n",
    "response = client.register_scalable_target(\n",
    "    ServiceNamespace='sagemaker',\n",
    "    ResourceId=f\"endpoint/{REALTIME_ENDPOINT_NAME}/variant/AllTraffic\",\n",
    "    ScalableDimension='sagemaker:variant:DesiredInstanceCount',  # scale number of instances\n",
    "    MinCapacity=1,  # min number of endpoint instance\n",
    "    MaxCapacity=10, # max number of endpoint instance\n",
    "    RoleARN=role,\n",
    ")"
   ]
  },
  {
   "cell_type": "code",
   "execution_count": 23,
   "metadata": {},
   "outputs": [],
   "source": [
    "# Change scaling policies if necessary\n",
    "response = client.put_scaling_policy(\n",
    "    PolicyName='SageMakerEndpointInvocationScalingPolicy',\n",
    "    ServiceNamespace='sagemaker',\n",
    "    ResourceId=f\"endpoint/{REALTIME_ENDPOINT_NAME}/variant/AllTraffic\",\n",
    "    ScalableDimension='sagemaker:variant:DesiredInstanceCount',\n",
    "    PolicyType='TargetTrackingScaling',\n",
    "    TargetTrackingScalingPolicyConfiguration={\n",
    "        'TargetValue': 70,\n",
    "        'PredefinedMetricSpecification': {\n",
    "            'PredefinedMetricType': 'SageMakerVariantInvocationsPerInstance',  # scale based upon this metric\n",
    "        },\n",
    "        'ScaleOutCooldown': 10,\n",
    "        'ScaleInCooldown': 300,\n",
    "        'DisableScaleIn': False\n",
    "    }\n",
    ")"
   ]
  },
  {
   "cell_type": "markdown",
   "metadata": {},
   "source": [
    "## Step 4: Test the endpoint"
   ]
  },
  {
   "cell_type": "markdown",
   "metadata": {},
   "source": [
    "### Call the endpoint"
   ]
  },
  {
   "cell_type": "code",
   "execution_count": 24,
   "metadata": {},
   "outputs": [
    {
     "data": {
      "text/plain": [
       "{'ResponseMetadata': {'RequestId': '369a61aa-c37e-48b7-90b4-d23c40bfb0eb',\n",
       "  'HTTPStatusCode': 200,\n",
       "  'HTTPHeaders': {'x-amzn-requestid': '369a61aa-c37e-48b7-90b4-d23c40bfb0eb',\n",
       "   'x-amzn-invoked-production-variant': 'AllTraffic',\n",
       "   'date': 'Wed, 6 Jan 2021 18:19:20 GMT',\n",
       "   'content-type': 'application/json',\n",
       "   'content-length': '376'},\n",
       "  'RetryAttempts': 0},\n",
       " 'ContentType': 'application/json',\n",
       " 'InvokedProductionVariant': 'AllTraffic',\n",
       " 'Body': <botocore.response.StreamingBody at 0x7f8c9caf9eb8>}"
      ]
     },
     "execution_count": 24,
     "metadata": {},
     "output_type": "execute_result"
    }
   ],
   "source": [
    "# WORKING_DIR = os.getcwd()\n",
    "WORKING_DIR = '/home/ec2-user/SageMaker/ding_demo/'  # Change to your working directory\n",
    "with open(os.path.join(WORKING_DIR, 'data/input/pic3.jpg'), 'rb') as f:  # Change to your testing image\n",
    "    payload = f.read()\n",
    "      \n",
    "client = boto3.client(\"runtime.sagemaker\")\n",
    "response = client.invoke_endpoint(EndpointName=REALTIME_ENDPOINT_NAME, \n",
    "                                  ContentType=\"application/x-image\", \n",
    "                                  Body=payload)\n",
    "\n",
    "response \n",
    "# json.loads(response[\"Body\"].read().decode(\"utf-8\"))"
   ]
  },
  {
   "cell_type": "code",
   "execution_count": 25,
   "metadata": {},
   "outputs": [
    {
     "data": {
      "text/plain": [
       "{'signature0': {'score': 0.9995638728141785,\n",
       "  'roi': [368.6142883300781,\n",
       "   815.865234375,\n",
       "   532.2171020507812,\n",
       "   868.3385009765625]},\n",
       " 'signature1': {'score': 0.9995121955871582,\n",
       "  'roi': [381.7952575683594,\n",
       "   487.78424072265625,\n",
       "   537.423583984375,\n",
       "   539.2177124023438]},\n",
       " 'signature2': {'score': 0.9396294951438904,\n",
       "  'roi': [893.72509765625, 484.1945495605469, 1228.3828125, 553.2119140625]}}"
      ]
     },
     "execution_count": 25,
     "metadata": {},
     "output_type": "execute_result"
    }
   ],
   "source": [
    "# Get response body content and convert it to a dictionary\n",
    "response_dict = eval(response[\"Body\"].read().decode(\"utf-8\"))\n",
    "response_dict"
   ]
  },
  {
   "cell_type": "markdown",
   "metadata": {},
   "source": [
    "### Plot signature detection result"
   ]
  },
  {
   "cell_type": "code",
   "execution_count": 26,
   "metadata": {},
   "outputs": [],
   "source": [
    "INPUT_MAX_SIZE_TEST = 1600  # This is the same as INPUT_MAX_SIZE_TEST in inference.py\n",
    "\n",
    "def _resize_img(img, target_height = INPUT_MAX_SIZE_TEST, target_width = INPUT_MAX_SIZE_TEST):\n",
    "    \"\"\"\n",
    "    _resize_img resizes the image specified by the parameter img to the specified target width and height\n",
    "    by maintaining the aspect ratio and adding a gray padding (127, 127, 127).\n",
    "\n",
    "    :param target_height: target height.\n",
    "    :param target_width: target width.\n",
    "    \n",
    "    :return: border_image: resized image\n",
    "    :return: params: transformation parameters which were applied to img\n",
    "    \"\"\" \n",
    "    \n",
    "    h, w, _ = img.shape\n",
    "    size_percent = min(target_height/h, target_width/w)\n",
    "    new_h = int(h * size_percent)\n",
    "    new_w = int(w * size_percent)\n",
    "    new_img = cv2.resize(img, dsize = (new_w, new_h), interpolation = cv2.INTER_NEAREST)\n",
    "    \n",
    "    color = [127, 127, 127]\n",
    "    border_img = np.full((target_height, target_width, 3), color, dtype = np.uint8)\n",
    "    h, w, _ = new_img.shape\n",
    "    \n",
    "    h_margin = (target_height - h) // 2\n",
    "    w_margin = (target_width - w) // 2\n",
    "    \n",
    "    params = [size_percent, h_margin, w_margin]\n",
    "    border_img[h_margin:h_margin + h, w_margin:w_margin + w] = new_img\n",
    "    \n",
    "    return border_img, params\n",
    "\n",
    "def show_prediction(payload, response_dict):\n",
    "    \"\"\"\n",
    "    show_prediction return raw output preditions from RetinaNet signature detection model.\n",
    "\n",
    "    :param payload: raw image\n",
    "    :param response_dict: dictionary structure of response body returned from model \n",
    "    \n",
    "    :return: image with bbox on it\n",
    "    \"\"\" \n",
    "    im_rgb = np.array(Image.open(io.BytesIO(payload)).convert(\"RGB\"))\n",
    "    im_rgb, _ = _resize_img(im_rgb)\n",
    "    \n",
    "    for k in range(len(response_dict)):\n",
    "        signature = response_dict[f'signature{k}']\n",
    "        bbox = signature['roi']\n",
    "        start_point = (int(bbox[0]), int(bbox[1]))\n",
    "        end_point = (int(bbox[2]), int(bbox[3]))\n",
    "        im_rgb = cv2.rectangle(im_rgb, start_point, end_point, (255,0,0), 3) \n",
    "    \n",
    "    return im_rgb"
   ]
  },
  {
   "cell_type": "code",
   "execution_count": 27,
   "metadata": {},
   "outputs": [
    {
     "data": {
      "image/png": "[encoded data removed]",
      "text/plain": [
       "<Figure size 432x288 with 1 Axes>"
      ]
     },
     "metadata": {
      "needs_background": "light"
     },
     "output_type": "display_data"
    }
   ],
   "source": [
    "im_rgb = show_prediction(payload, response_dict)\n",
    "plt.imshow(im_rgb)\n",
    "plt.show()"
   ]
  },
  {
   "cell_type": "code",
   "execution_count": null,
   "metadata": {},
   "outputs": [],
   "source": []
  }
 ],
 "metadata": {
  "kernelspec": {
   "display_name": "conda_pytorch_latest_p36",
   "language": "python",
   "name": "conda_pytorch_latest_p36"
  },
  "language_info": {
   "codemirror_mode": {
    "name": "ipython",
    "version": 3
   },
   "file_extension": ".py",
   "mimetype": "text/x-python",
   "name": "python",
   "nbconvert_exporter": "python",
   "pygments_lexer": "ipython3",
   "version": "3.6.13"
  }
 },
 "nbformat": 4,
 "nbformat_minor": 4
}
